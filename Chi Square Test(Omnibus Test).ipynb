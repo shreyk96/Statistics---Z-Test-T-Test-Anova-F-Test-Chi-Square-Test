{
 "cells": [
  {
   "cell_type": "code",
   "execution_count": 3,
   "metadata": {},
   "outputs": [
    {
     "name": "stderr",
     "output_type": "stream",
     "text": [
      "C:\\Users\\Toshiba\\Anaconda3\\lib\\importlib\\_bootstrap.py:219: RuntimeWarning: numpy.ufunc size changed, may indicate binary incompatibility. Expected 192 from C header, got 216 from PyObject\n",
      "  return f(*args, **kwds)\n",
      "C:\\Users\\Toshiba\\Anaconda3\\lib\\importlib\\_bootstrap.py:219: RuntimeWarning: numpy.ufunc size changed, may indicate binary incompatibility. Expected 192 from C header, got 216 from PyObject\n",
      "  return f(*args, **kwds)\n",
      "C:\\Users\\Toshiba\\Anaconda3\\lib\\importlib\\_bootstrap.py:219: RuntimeWarning: numpy.ufunc size changed, may indicate binary incompatibility. Expected 192 from C header, got 216 from PyObject\n",
      "  return f(*args, **kwds)\n",
      "C:\\Users\\Toshiba\\Anaconda3\\lib\\importlib\\_bootstrap.py:219: RuntimeWarning: numpy.ufunc size changed, may indicate binary incompatibility. Expected 192 from C header, got 216 from PyObject\n",
      "  return f(*args, **kwds)\n",
      "C:\\Users\\Toshiba\\Anaconda3\\lib\\importlib\\_bootstrap.py:219: RuntimeWarning: numpy.ufunc size changed, may indicate binary incompatibility. Expected 192 from C header, got 216 from PyObject\n",
      "  return f(*args, **kwds)\n",
      "C:\\Users\\Toshiba\\Anaconda3\\lib\\importlib\\_bootstrap.py:219: RuntimeWarning: numpy.ufunc size changed, may indicate binary incompatibility. Expected 192 from C header, got 216 from PyObject\n",
      "  return f(*args, **kwds)\n"
     ]
    }
   ],
   "source": [
    "import numpy as np\n",
    "import pandas as pd\n",
    "import matplotlib.pyplot as plt\n",
    "import statsmodels.api as sm\n",
    "import scipy.stats as scipy\n",
    "import seaborn as sns"
   ]
  },
  {
   "cell_type": "markdown",
   "metadata": {},
   "source": [
    "#### Chi Square Test\n",
    "\n",
    "Omnibus Test"
   ]
  },
  {
   "cell_type": "markdown",
   "metadata": {},
   "source": [
    "Step1 - Null Hypothesis\n",
    "\n",
    "Step2 - Alternate Hypothesis\n",
    "\n",
    "Step3 - Critical value (Found by the Degree of freedom)\n",
    "\n",
    "Step4 - Omnibus Test Statistic = Summation of (Observed Frequency-Expected Frequency)^2/Expected Frequency\n",
    "\n",
    "Expected Frequency is the point probability multiplied by the observed frequency"
   ]
  },
  {
   "cell_type": "markdown",
   "metadata": {},
   "source": [
    "#### ATM Example\n",
    "At the 1% level of significance, can we reject the null hypothesis that the number of people\n",
    "who use this ATM each of the 5 days of the week is the same? Assume that this week is typical\n",
    "of all weeks in regard to the use of this ATM."
   ]
  },
  {
   "cell_type": "code",
   "execution_count": 49,
   "metadata": {},
   "outputs": [],
   "source": [
    "Day = [\"Monday\",\"Tuesday\",\"Wednesday\",\"Thursday\",\"Friday\"]\n",
    "Number_Of_Users = [253,197,204,279,267]"
   ]
  },
  {
   "cell_type": "code",
   "execution_count": 51,
   "metadata": {},
   "outputs": [],
   "source": [
    "n = np.sum(Number_Of_Users)"
   ]
  },
  {
   "cell_type": "code",
   "execution_count": 59,
   "metadata": {},
   "outputs": [],
   "source": [
    "alpha = 0.01\n",
    "k = 5    #(k is the number of categories)\n",
    "dof = k-1"
   ]
  },
  {
   "cell_type": "code",
   "execution_count": 54,
   "metadata": {},
   "outputs": [
    {
     "data": {
      "text/plain": [
       "[240.0, 240.0, 240.0, 240.0, 240.0]"
      ]
     },
     "execution_count": 54,
     "metadata": {},
     "output_type": "execute_result"
    }
   ],
   "source": [
    "Expected_Frequency = [n/5,n/5,n/5,n/5,n/5]\n",
    "Expected_Frequency"
   ]
  },
  {
   "cell_type": "markdown",
   "metadata": {},
   "source": [
    "#### Step3 - Critical Value"
   ]
  },
  {
   "cell_type": "code",
   "execution_count": 105,
   "metadata": {},
   "outputs": [
    {
     "name": "stdout",
     "output_type": "stream",
     "text": [
      "CV: 0.297109480506532\n"
     ]
    }
   ],
   "source": [
    "cv = scipy.chi2.ppf(0.01,4)\n",
    "print(\"CV:\",cv)"
   ]
  },
  {
   "cell_type": "code",
   "execution_count": 15,
   "metadata": {},
   "outputs": [
    {
     "name": "stdout",
     "output_type": "stream",
     "text": [
      "Mean of the number of transactions in a week: 240.0\n"
     ]
    }
   ],
   "source": [
    "mean_atm = atm.Number_Of_Users.mean()\n",
    "print(\"Mean of the number of transactions in a week:\",mean_atm)"
   ]
  },
  {
   "cell_type": "markdown",
   "metadata": {},
   "source": [
    "H0: Number of people who use this ATM each day in a week is the same.\n",
    "    \n",
    "H1: Number of people who use this ATM each day in a week is not the same.\n",
    "\n",
    "Identifying the test - As there are 5 days, its a multinomial experiment - so we will use Chi Square Test."
   ]
  },
  {
   "cell_type": "markdown",
   "metadata": {},
   "source": [
    "#### Step4- Chi Square Statistic"
   ]
  },
  {
   "cell_type": "code",
   "execution_count": 20,
   "metadata": {},
   "outputs": [],
   "source": [
    "from scipy import stats"
   ]
  },
  {
   "cell_type": "code",
   "execution_count": 58,
   "metadata": {},
   "outputs": [
    {
     "name": "stdout",
     "output_type": "stream",
     "text": [
      "Teststats: 23.183333333333337\n",
      "Pvalue: 0.00011638214275705237\n"
     ]
    }
   ],
   "source": [
    "teststats,pvalue = stats.chisquare(f_obs=Number_Of_Users,f_exp=Expected_Frequency)\n",
    "print(\"Teststats:\",teststats)\n",
    "print(\"Pvalue:\",pvalue)"
   ]
  },
  {
   "cell_type": "code",
   "execution_count": 60,
   "metadata": {},
   "outputs": [
    {
     "name": "stdout",
     "output_type": "stream",
     "text": [
      "Reject Null Hypothesis\n"
     ]
    }
   ],
   "source": [
    "if (pvalue>alpha):\n",
    "    print(\"We fail to reject the Null Hypothesis\")\n",
    "else:\n",
    "    print(\"Reject Null Hypothesis\")"
   ]
  },
  {
   "cell_type": "markdown",
   "metadata": {},
   "source": [
    "#### Step5 - Conclusion\n",
    "As we see the critical value is lesser than the test statistic, we will reject the null hypothesis and accept the alternate hypothesis, which means number of people who use this ATM each day in a week is not the same."
   ]
  },
  {
   "cell_type": "markdown",
   "metadata": {},
   "source": [
    "#### Airline Example\n",
    "An Airline company daily flight catres to several citoes. The F&B manager believes that 30% of their passengers prefer Veg Food, 45% prefer vegan, 20% are non veg and 5% prefer jain food.\n",
    "\n",
    "A sample of 500 passengers was chosen to analyse the food preference of the passengers."
   ]
  },
  {
   "cell_type": "code",
   "execution_count": 62,
   "metadata": {},
   "outputs": [],
   "source": [
    "passengers = [190,185,90,35]\n",
    "alpha = 0.05"
   ]
  },
  {
   "cell_type": "code",
   "execution_count": 63,
   "metadata": {},
   "outputs": [
    {
     "name": "stdout",
     "output_type": "stream",
     "text": [
      "n is: 500\n"
     ]
    }
   ],
   "source": [
    "n = np.sum(passengers)\n",
    "print(\"n is:\",n)"
   ]
  },
  {
   "cell_type": "markdown",
   "metadata": {},
   "source": [
    "Step1 - H0: The food preference is as perceived by the F&B manager.\n",
    "\n",
    "Step2 - H1: The food preference is not as perceived by the F&B manager.\n",
    "\n",
    "Step3- Test Statistic of Chi Square Test and PValue\n",
    "\n",
    "Chosen alpha is 0.05"
   ]
  },
  {
   "cell_type": "code",
   "execution_count": 64,
   "metadata": {},
   "outputs": [],
   "source": [
    "# Step3 -\n",
    "expected_passenger_count = [n*0.30,n*0.45,n*0.20,n*0.05]"
   ]
  },
  {
   "cell_type": "code",
   "execution_count": 65,
   "metadata": {},
   "outputs": [
    {
     "data": {
      "text/plain": [
       "[150.0, 225.0, 100.0, 25.0]"
      ]
     },
     "execution_count": 65,
     "metadata": {},
     "output_type": "execute_result"
    }
   ],
   "source": [
    "expected_passenger_count"
   ]
  },
  {
   "cell_type": "code",
   "execution_count": 66,
   "metadata": {},
   "outputs": [
    {
     "name": "stdout",
     "output_type": "stream",
     "text": [
      "Test stats: 22.77777777777778\n",
      "Pvalue: 4.492718590376291e-05\n"
     ]
    }
   ],
   "source": [
    "teststats,pvalue = stats.chisquare(f_obs=passengers,f_exp=expected_passenger_count)\n",
    "print(\"Test stats:\",teststats)\n",
    "print(\"Pvalue:\",pvalue)"
   ]
  },
  {
   "cell_type": "code",
   "execution_count": 67,
   "metadata": {},
   "outputs": [
    {
     "name": "stdout",
     "output_type": "stream",
     "text": [
      "Reject Null Hypothesis\n"
     ]
    }
   ],
   "source": [
    "if (pvalue>alpha):\n",
    "    print(\"We fail to reject the Null Hypothesis\")\n",
    "else:\n",
    "    print(\"Reject Null Hypothesis\")"
   ]
  },
  {
   "cell_type": "markdown",
   "metadata": {},
   "source": [
    "Continuing the same example from above, the F&B manager realised that the perception is not correct.\n",
    "\n",
    "He now believes that 28% passengers prefer vegan food,42% prefer veg,25% prefer non veg and 5% for jain food."
   ]
  },
  {
   "cell_type": "code",
   "execution_count": 68,
   "metadata": {},
   "outputs": [],
   "source": [
    "new_expected_passenger_count = [n*0.28,n*0.42,n*0.25,n*0.05]"
   ]
  },
  {
   "cell_type": "code",
   "execution_count": 69,
   "metadata": {},
   "outputs": [
    {
     "name": "stdout",
     "output_type": "stream",
     "text": [
      "Test stats: 34.63333333333334\n",
      "Pvalue: 1.4561004918754443e-07\n"
     ]
    }
   ],
   "source": [
    "teststats,pvalue = stats.chisquare(f_obs=passengers,f_exp=new_expected_passenger_count)\n",
    "print(\"Test stats:\",teststats)\n",
    "print(\"Pvalue:\",pvalue)"
   ]
  },
  {
   "cell_type": "code",
   "execution_count": 70,
   "metadata": {},
   "outputs": [
    {
     "name": "stdout",
     "output_type": "stream",
     "text": [
      "Reject Null Hypothesis\n"
     ]
    }
   ],
   "source": [
    "if (pvalue>alpha):\n",
    "    print(\"We fail to reject the Null Hypothesis\")\n",
    "else:\n",
    "    print(\"Reject Null Hypothesis\")"
   ]
  },
  {
   "cell_type": "markdown",
   "metadata": {},
   "source": [
    "##### Conclusion: We have infered that the manager's perception is still not correct."
   ]
  },
  {
   "cell_type": "markdown",
   "metadata": {},
   "source": [
    "#### Manufacturing Unit Example\n",
    "\n",
    "H0: There is no difference in the quality of the product made by either of the gender.\n",
    "\n",
    "H1: There is difference in the quality of the product made by either of the gender."
   ]
  },
  {
   "cell_type": "code",
   "execution_count": 92,
   "metadata": {},
   "outputs": [
    {
     "data": {
      "text/html": [
       "<div>\n",
       "<style scoped>\n",
       "    .dataframe tbody tr th:only-of-type {\n",
       "        vertical-align: middle;\n",
       "    }\n",
       "\n",
       "    .dataframe tbody tr th {\n",
       "        vertical-align: top;\n",
       "    }\n",
       "\n",
       "    .dataframe thead th {\n",
       "        text-align: right;\n",
       "    }\n",
       "</style>\n",
       "<table border=\"1\" class=\"dataframe\">\n",
       "  <thead>\n",
       "    <tr style=\"text-align: right;\">\n",
       "      <th></th>\n",
       "      <th>Gender</th>\n",
       "      <th>Perfect</th>\n",
       "      <th>Satisfactory</th>\n",
       "      <th>Defective</th>\n",
       "    </tr>\n",
       "  </thead>\n",
       "  <tbody>\n",
       "    <tr>\n",
       "      <th>0</th>\n",
       "      <td>Male</td>\n",
       "      <td>138</td>\n",
       "      <td>83</td>\n",
       "      <td>64</td>\n",
       "    </tr>\n",
       "    <tr>\n",
       "      <th>1</th>\n",
       "      <td>Female</td>\n",
       "      <td>64</td>\n",
       "      <td>67</td>\n",
       "      <td>84</td>\n",
       "    </tr>\n",
       "  </tbody>\n",
       "</table>\n",
       "</div>"
      ],
      "text/plain": [
       "   Gender  Perfect  Satisfactory  Defective\n",
       "0    Male      138            83         64\n",
       "1  Female       64            67         84"
      ]
     },
     "execution_count": 92,
     "metadata": {},
     "output_type": "execute_result"
    }
   ],
   "source": [
    "x = pd.DataFrame({\"Gender\":[\"Male\",\"Female\"],\"Perfect\":[138,64],\"Satisfactory\":[83,67],\"Defective\":[64,84]})\n",
    "x"
   ]
  },
  {
   "cell_type": "code",
   "execution_count": 85,
   "metadata": {},
   "outputs": [
    {
     "data": {
      "text/plain": [
       "array([[138,  83,  64],\n",
       "       [ 64,  67,  84]])"
      ]
     },
     "execution_count": 85,
     "metadata": {},
     "output_type": "execute_result"
    }
   ],
   "source": [
    "alpha = 0.05\n",
    "male = [138,83,64]\n",
    "female = [64,67,84]\n",
    "quality = np.array([male,female])\n",
    "quality"
   ]
  },
  {
   "cell_type": "code",
   "execution_count": 108,
   "metadata": {},
   "outputs": [],
   "source": [
    "dof = 1 + 3   # Here degree of freedom = (num of rows-1)+(num of columns-1)"
   ]
  },
  {
   "cell_type": "code",
   "execution_count": 107,
   "metadata": {},
   "outputs": [
    {
     "name": "stdout",
     "output_type": "stream",
     "text": [
      "CV: 0.7107230213973245\n"
     ]
    }
   ],
   "source": [
    "cv = scipy.chi2.ppf(0.05,4)\n",
    "print(\"CV:\",cv)"
   ]
  },
  {
   "cell_type": "markdown",
   "metadata": {},
   "source": [
    "^ In the above table, there are more than one categorical variables so we will use the contingency chi square test."
   ]
  },
  {
   "cell_type": "code",
   "execution_count": 87,
   "metadata": {},
   "outputs": [
    {
     "name": "stdout",
     "output_type": "stream",
     "text": [
      "Teststats: 22.152468645918482\n",
      "Pvalue: 1.547578021398957e-05\n",
      "Deg. Of Freedom: 2\n",
      "Expected Frequency [[115.14  85.5   84.36]\n",
      " [ 86.86  64.5   63.64]]\n"
     ]
    }
   ],
   "source": [
    "teststats,pvalue,df,exp_freq = stats.chi2_contingency(quality)\n",
    "print(\"Teststats:\",teststats)\n",
    "print(\"Pvalue:\",pvalue)\n",
    "print(\"Deg. Of Freedom:\",df)\n",
    "print(\"Expected Frequency\",exp_freq)"
   ]
  },
  {
   "cell_type": "code",
   "execution_count": 88,
   "metadata": {},
   "outputs": [
    {
     "name": "stdout",
     "output_type": "stream",
     "text": [
      "Reject Null Hypothesis\n"
     ]
    }
   ],
   "source": [
    "if (pvalue>alpha):\n",
    "    print(\"We fail to reject the Null Hypothesis\")\n",
    "else:\n",
    "    print(\"Reject Null Hypothesis\")"
   ]
  },
  {
   "cell_type": "markdown",
   "metadata": {},
   "source": []
  }
 ],
 "metadata": {
  "kernelspec": {
   "display_name": "Python 3",
   "language": "python",
   "name": "python3"
  },
  "language_info": {
   "codemirror_mode": {
    "name": "ipython",
    "version": 3
   },
   "file_extension": ".py",
   "mimetype": "text/x-python",
   "name": "python",
   "nbconvert_exporter": "python",
   "pygments_lexer": "ipython3",
   "version": "3.7.3"
  }
 },
 "nbformat": 4,
 "nbformat_minor": 2
}
