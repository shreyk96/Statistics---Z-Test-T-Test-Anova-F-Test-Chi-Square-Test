{
 "cells": [
  {
   "cell_type": "markdown",
   "metadata": {},
   "source": [
    "### Anova"
   ]
  },
  {
   "cell_type": "markdown",
   "metadata": {},
   "source": [
    "Anova is an extension of T-Test. \n",
    "\n",
    "We do Anova test when we have more than 2 samples to test.\n",
    "\n",
    "In Anova we do F-Test.\n",
    "\n",
    "In F-Test, We see F-table for Critical Values - there is degrees of freedom in numerator and degrees of freedom in \n",
    "denominator.\n",
    "\n",
    "In Anova test, we check variances between two or more samples/groups.\n",
    "\n",
    "F distribution/ Anova test is always assumed to be right skewed(positively skewed in nature).\n",
    "\n",
    "Parameters of Fdistribution are deg. of freedom of num and deg. of freedom of denom.\n",
    "\n",
    "F table holds three metrics-  dfn,dfd, alpha"
   ]
  },
  {
   "cell_type": "code",
   "execution_count": 1,
   "metadata": {},
   "outputs": [],
   "source": [
    "import numpy as np\n",
    "import scipy.stats as scipy\n",
    "import pandas as pd\n",
    "import statsmodels.api as sm\n",
    "import statsmodels.formula.api as sms\n",
    "from statsmodels.formula.api import ols\n",
    "import seaborn as sns\n",
    "import matplotlib.pyplot as plt"
   ]
  },
  {
   "cell_type": "code",
   "execution_count": 2,
   "metadata": {},
   "outputs": [
    {
     "data": {
      "text/plain": [
       "3.8852938346523933"
      ]
     },
     "execution_count": 2,
     "metadata": {},
     "output_type": "execute_result"
    }
   ],
   "source": [
    "scipy.f.ppf(q=1-0.05,dfn=2,dfd=12)\n",
    "# dfn - deg. of freedom in numerator\n",
    "# dfd - deg. of freedom in denominator\n",
    "# q is the the confidence level meaning : 1-alpha"
   ]
  },
  {
   "cell_type": "markdown",
   "metadata": {},
   "source": [
    "### Example1:-\n",
    "##### Car crash test for pressure on the skull\n",
    "##### National Transportation Safety Board Data\n",
    "We wish to identify whether the mean pressure applied to the driver during a car crash is same in all sengments keeping alpha = 0.05"
   ]
  },
  {
   "cell_type": "code",
   "execution_count": 3,
   "metadata": {},
   "outputs": [],
   "source": [
    "mean_pressure_hatchback_cars = [643,655,702]\n",
    "mean_pressure_sedan_cars = [469,427,525]\n",
    "mean_pressure_SUV_cars = [484,456,402]"
   ]
  },
  {
   "cell_type": "code",
   "execution_count": 4,
   "metadata": {},
   "outputs": [
    {
     "data": {
      "text/html": [
       "<div>\n",
       "<style scoped>\n",
       "    .dataframe tbody tr th:only-of-type {\n",
       "        vertical-align: middle;\n",
       "    }\n",
       "\n",
       "    .dataframe tbody tr th {\n",
       "        vertical-align: top;\n",
       "    }\n",
       "\n",
       "    .dataframe thead th {\n",
       "        text-align: right;\n",
       "    }\n",
       "</style>\n",
       "<table border=\"1\" class=\"dataframe\">\n",
       "  <thead>\n",
       "    <tr style=\"text-align: right;\">\n",
       "      <th></th>\n",
       "      <th>Car_Type</th>\n",
       "      <th>Mean_Pressures</th>\n",
       "    </tr>\n",
       "  </thead>\n",
       "  <tbody>\n",
       "    <tr>\n",
       "      <th>0</th>\n",
       "      <td>Hatch back</td>\n",
       "      <td>643</td>\n",
       "    </tr>\n",
       "    <tr>\n",
       "      <th>1</th>\n",
       "      <td>Hatch back</td>\n",
       "      <td>655</td>\n",
       "    </tr>\n",
       "    <tr>\n",
       "      <th>2</th>\n",
       "      <td>Hatch back</td>\n",
       "      <td>702</td>\n",
       "    </tr>\n",
       "    <tr>\n",
       "      <th>3</th>\n",
       "      <td>Sedan</td>\n",
       "      <td>469</td>\n",
       "    </tr>\n",
       "    <tr>\n",
       "      <th>4</th>\n",
       "      <td>Sedan</td>\n",
       "      <td>427</td>\n",
       "    </tr>\n",
       "    <tr>\n",
       "      <th>5</th>\n",
       "      <td>Sedan</td>\n",
       "      <td>525</td>\n",
       "    </tr>\n",
       "    <tr>\n",
       "      <th>6</th>\n",
       "      <td>SUV</td>\n",
       "      <td>484</td>\n",
       "    </tr>\n",
       "    <tr>\n",
       "      <th>7</th>\n",
       "      <td>SUV</td>\n",
       "      <td>456</td>\n",
       "    </tr>\n",
       "    <tr>\n",
       "      <th>8</th>\n",
       "      <td>SUV</td>\n",
       "      <td>402</td>\n",
       "    </tr>\n",
       "  </tbody>\n",
       "</table>\n",
       "</div>"
      ],
      "text/plain": [
       "     Car_Type  Mean_Pressures\n",
       "0  Hatch back             643\n",
       "1  Hatch back             655\n",
       "2  Hatch back             702\n",
       "3       Sedan             469\n",
       "4       Sedan             427\n",
       "5       Sedan             525\n",
       "6         SUV             484\n",
       "7         SUV             456\n",
       "8         SUV             402"
      ]
     },
     "execution_count": 4,
     "metadata": {},
     "output_type": "execute_result"
    }
   ],
   "source": [
    "cars_type_mp = pd.DataFrame({\"Car_Type\":[\"Hatch back\",\"Hatch back\",\"Hatch back\",\"Sedan\",\"Sedan\",\"Sedan\",\"SUV\",\"SUV\",\"SUV\"],\"Mean_Pressures\":[643,655,702,469,427,525,484,456,402]})\n",
    "cars_type_mp"
   ]
  },
  {
   "cell_type": "markdown",
   "metadata": {},
   "source": [
    "Step1- H0: Mean Pressure on skull(hatchback)=Mean Pressure on skull(Sedan)=Mean Pressure on skull(SUV)\n",
    "\n",
    "Step2- H1: Mean Pressure on skull(hatchback)!=Mean Pressure on skull(Sedan)!=Mean Pressure on skull(SUV) or \n",
    "    mean pressure on skull of at least one car type is more than the others.\n",
    "    \n",
    "Step3 - Its a right tail(positively skewed) test. - Anova Test - F - test"
   ]
  },
  {
   "cell_type": "code",
   "execution_count": 5,
   "metadata": {},
   "outputs": [
    {
     "name": "stdout",
     "output_type": "stream",
     "text": [
      "F critical value is: 5.143252849784718\n"
     ]
    }
   ],
   "source": [
    "# Step4- F Critical Value\n",
    "f_cv = scipy.f.isf(0.05,dfn=2,dfd=6)\n",
    "print(\"F critical value is:\",f_cv)"
   ]
  },
  {
   "cell_type": "markdown",
   "metadata": {},
   "source": [
    "Step5- Find Fstatistic\n",
    "F statistic is found using Anova Table\n",
    "We use statsmodels.formuli.api import ols (Ordinary Least Square) to make the Anova table to find the Fstats."
   ]
  },
  {
   "cell_type": "code",
   "execution_count": 6,
   "metadata": {},
   "outputs": [],
   "source": [
    "# Fitting Anova model using OLS\n",
    "model = ols(\"Mean_Pressures~Car_Type\",data= cars_type_mp).fit()"
   ]
  },
  {
   "cell_type": "code",
   "execution_count": 7,
   "metadata": {},
   "outputs": [
    {
     "name": "stdout",
     "output_type": "stream",
     "text": [
      "           df        sum_sq       mean_sq          F    PR(>F)\n",
      "Car_Type  2.0  86049.555556  43024.777778  25.175411  0.001207\n",
      "Residual  6.0  10254.000000   1709.000000        NaN       NaN\n"
     ]
    }
   ],
   "source": [
    "print(sm.stats.anova_lm(model))"
   ]
  },
  {
   "cell_type": "markdown",
   "metadata": {},
   "source": [
    "By looking at the P value in the above model, we figure out that there is less than 1%(0.0012%) probability(chance) of the mean pressures of the different car types being same."
   ]
  },
  {
   "cell_type": "markdown",
   "metadata": {},
   "source": [
    "##### Step-6 - Conclusion\n",
    "We can see Fstats is 25.17 and the Fcv is 5.14. The Fstats is much higher than the Fcv, which means we will reject the \n",
    "null hypothesis. So it means all the car types mean pressures are not the same. We accept the alternate hypothesis.\n",
    "PR is the pvalue which is 0.001207 which is way less than our alpha(error)=0.05 so we reject the null hypothesis and \n",
    "accept the alternate hypothesis.\n",
    "\n",
    "Now, since we know at least one car type has a different mean pressure impact on the skull, hence we are interested in knmowing which car type it is...\n",
    "\n",
    "In order to know this, we need to conduct the POST HOC TEST and the mostly conducted test is called PAIRWISE TUKEY TEST."
   ]
  },
  {
   "cell_type": "markdown",
   "metadata": {},
   "source": [
    "#### POST HOC TEST"
   ]
  },
  {
   "cell_type": "code",
   "execution_count": 8,
   "metadata": {},
   "outputs": [],
   "source": [
    "from statsmodels.stats.multicomp import pairwise_tukeyhsd"
   ]
  },
  {
   "cell_type": "code",
   "execution_count": 9,
   "metadata": {},
   "outputs": [
    {
     "name": "stdout",
     "output_type": "stream",
     "text": [
      "     Multiple Comparison of Means - Tukey HSD, FWER=0.05     \n",
      "=============================================================\n",
      "  group1   group2  meandiff p-adj    lower     upper   reject\n",
      "-------------------------------------------------------------\n",
      "Hatch back    SUV -219.3333 0.0015 -322.7791 -115.8876   True\n",
      "Hatch back  Sedan    -193.0  0.003 -296.4458  -89.5542   True\n",
      "       SUV  Sedan   26.3333 0.7172  -77.1124  129.7791  False\n",
      "-------------------------------------------------------------\n"
     ]
    }
   ],
   "source": [
    "print(pairwise_tukeyhsd(cars_type_mp[\"Mean_Pressures\"],cars_type_mp[\"Car_Type\"]))"
   ]
  },
  {
   "cell_type": "markdown",
   "metadata": {},
   "source": [
    "#### Conclusion for POST HOC TEST\n",
    "Since we see that the Hatchback has the maximum mean difference with Sedan and SUV cars and we also see that the Hypothesis Rejection is TRUE for these car segments and hence we can conclude that thr hatchback appears to be the most vulnerable segment to go with."
   ]
  },
  {
   "cell_type": "markdown",
   "metadata": {},
   "source": [
    "### Example2:-\n",
    "##### Gym Income:-\n",
    "#### Perform a Hypothesis Test to see if mean income of store are equal?!"
   ]
  },
  {
   "cell_type": "code",
   "execution_count": 10,
   "metadata": {},
   "outputs": [],
   "source": [
    "gym_store1 = [60,65,66,55,62,70,51,72,58,61,71,41,70,57,55,63,64,76,74,54,58,73]\n",
    "gym_store2 = [56,65,63,57,47,72,56,52,75,66,62,68,75,60,73,63,64,65]\n",
    "gym_store3 = [67,56,65,61,63,59,42,53,63,65,60,57,62,70,73,63,55,52,58,68,70,72,45]"
   ]
  },
  {
   "cell_type": "code",
   "execution_count": 11,
   "metadata": {},
   "outputs": [
    {
     "data": {
      "text/html": [
       "<div>\n",
       "<style scoped>\n",
       "    .dataframe tbody tr th:only-of-type {\n",
       "        vertical-align: middle;\n",
       "    }\n",
       "\n",
       "    .dataframe tbody tr th {\n",
       "        vertical-align: top;\n",
       "    }\n",
       "\n",
       "    .dataframe thead th {\n",
       "        text-align: right;\n",
       "    }\n",
       "</style>\n",
       "<table border=\"1\" class=\"dataframe\">\n",
       "  <thead>\n",
       "    <tr style=\"text-align: right;\">\n",
       "      <th></th>\n",
       "      <th>Gym</th>\n",
       "      <th>Monthly_Income</th>\n",
       "    </tr>\n",
       "  </thead>\n",
       "  <tbody>\n",
       "    <tr>\n",
       "      <th>0</th>\n",
       "      <td>G1</td>\n",
       "      <td>60</td>\n",
       "    </tr>\n",
       "    <tr>\n",
       "      <th>1</th>\n",
       "      <td>G1</td>\n",
       "      <td>65</td>\n",
       "    </tr>\n",
       "    <tr>\n",
       "      <th>2</th>\n",
       "      <td>G1</td>\n",
       "      <td>66</td>\n",
       "    </tr>\n",
       "    <tr>\n",
       "      <th>3</th>\n",
       "      <td>G1</td>\n",
       "      <td>55</td>\n",
       "    </tr>\n",
       "    <tr>\n",
       "      <th>4</th>\n",
       "      <td>G1</td>\n",
       "      <td>62</td>\n",
       "    </tr>\n",
       "    <tr>\n",
       "      <th>5</th>\n",
       "      <td>G1</td>\n",
       "      <td>70</td>\n",
       "    </tr>\n",
       "    <tr>\n",
       "      <th>6</th>\n",
       "      <td>G1</td>\n",
       "      <td>51</td>\n",
       "    </tr>\n",
       "    <tr>\n",
       "      <th>7</th>\n",
       "      <td>G1</td>\n",
       "      <td>72</td>\n",
       "    </tr>\n",
       "    <tr>\n",
       "      <th>8</th>\n",
       "      <td>G1</td>\n",
       "      <td>58</td>\n",
       "    </tr>\n",
       "    <tr>\n",
       "      <th>9</th>\n",
       "      <td>G1</td>\n",
       "      <td>61</td>\n",
       "    </tr>\n",
       "    <tr>\n",
       "      <th>10</th>\n",
       "      <td>G1</td>\n",
       "      <td>71</td>\n",
       "    </tr>\n",
       "    <tr>\n",
       "      <th>11</th>\n",
       "      <td>G1</td>\n",
       "      <td>41</td>\n",
       "    </tr>\n",
       "    <tr>\n",
       "      <th>12</th>\n",
       "      <td>G1</td>\n",
       "      <td>70</td>\n",
       "    </tr>\n",
       "    <tr>\n",
       "      <th>13</th>\n",
       "      <td>G1</td>\n",
       "      <td>57</td>\n",
       "    </tr>\n",
       "    <tr>\n",
       "      <th>14</th>\n",
       "      <td>G1</td>\n",
       "      <td>55</td>\n",
       "    </tr>\n",
       "    <tr>\n",
       "      <th>15</th>\n",
       "      <td>G1</td>\n",
       "      <td>63</td>\n",
       "    </tr>\n",
       "    <tr>\n",
       "      <th>16</th>\n",
       "      <td>G1</td>\n",
       "      <td>64</td>\n",
       "    </tr>\n",
       "    <tr>\n",
       "      <th>17</th>\n",
       "      <td>G1</td>\n",
       "      <td>76</td>\n",
       "    </tr>\n",
       "    <tr>\n",
       "      <th>18</th>\n",
       "      <td>G1</td>\n",
       "      <td>74</td>\n",
       "    </tr>\n",
       "    <tr>\n",
       "      <th>19</th>\n",
       "      <td>G1</td>\n",
       "      <td>54</td>\n",
       "    </tr>\n",
       "    <tr>\n",
       "      <th>20</th>\n",
       "      <td>G1</td>\n",
       "      <td>58</td>\n",
       "    </tr>\n",
       "    <tr>\n",
       "      <th>21</th>\n",
       "      <td>G1</td>\n",
       "      <td>73</td>\n",
       "    </tr>\n",
       "    <tr>\n",
       "      <th>0</th>\n",
       "      <td>G2</td>\n",
       "      <td>56</td>\n",
       "    </tr>\n",
       "    <tr>\n",
       "      <th>1</th>\n",
       "      <td>G2</td>\n",
       "      <td>65</td>\n",
       "    </tr>\n",
       "    <tr>\n",
       "      <th>2</th>\n",
       "      <td>G2</td>\n",
       "      <td>63</td>\n",
       "    </tr>\n",
       "    <tr>\n",
       "      <th>3</th>\n",
       "      <td>G2</td>\n",
       "      <td>57</td>\n",
       "    </tr>\n",
       "    <tr>\n",
       "      <th>4</th>\n",
       "      <td>G2</td>\n",
       "      <td>47</td>\n",
       "    </tr>\n",
       "    <tr>\n",
       "      <th>5</th>\n",
       "      <td>G2</td>\n",
       "      <td>72</td>\n",
       "    </tr>\n",
       "    <tr>\n",
       "      <th>6</th>\n",
       "      <td>G2</td>\n",
       "      <td>56</td>\n",
       "    </tr>\n",
       "    <tr>\n",
       "      <th>7</th>\n",
       "      <td>G2</td>\n",
       "      <td>52</td>\n",
       "    </tr>\n",
       "    <tr>\n",
       "      <th>...</th>\n",
       "      <td>...</td>\n",
       "      <td>...</td>\n",
       "    </tr>\n",
       "    <tr>\n",
       "      <th>11</th>\n",
       "      <td>G2</td>\n",
       "      <td>68</td>\n",
       "    </tr>\n",
       "    <tr>\n",
       "      <th>12</th>\n",
       "      <td>G2</td>\n",
       "      <td>75</td>\n",
       "    </tr>\n",
       "    <tr>\n",
       "      <th>13</th>\n",
       "      <td>G2</td>\n",
       "      <td>60</td>\n",
       "    </tr>\n",
       "    <tr>\n",
       "      <th>14</th>\n",
       "      <td>G2</td>\n",
       "      <td>73</td>\n",
       "    </tr>\n",
       "    <tr>\n",
       "      <th>15</th>\n",
       "      <td>G2</td>\n",
       "      <td>63</td>\n",
       "    </tr>\n",
       "    <tr>\n",
       "      <th>16</th>\n",
       "      <td>G2</td>\n",
       "      <td>64</td>\n",
       "    </tr>\n",
       "    <tr>\n",
       "      <th>17</th>\n",
       "      <td>G2</td>\n",
       "      <td>65</td>\n",
       "    </tr>\n",
       "    <tr>\n",
       "      <th>0</th>\n",
       "      <td>G3</td>\n",
       "      <td>67</td>\n",
       "    </tr>\n",
       "    <tr>\n",
       "      <th>1</th>\n",
       "      <td>G3</td>\n",
       "      <td>56</td>\n",
       "    </tr>\n",
       "    <tr>\n",
       "      <th>2</th>\n",
       "      <td>G3</td>\n",
       "      <td>65</td>\n",
       "    </tr>\n",
       "    <tr>\n",
       "      <th>3</th>\n",
       "      <td>G3</td>\n",
       "      <td>61</td>\n",
       "    </tr>\n",
       "    <tr>\n",
       "      <th>4</th>\n",
       "      <td>G3</td>\n",
       "      <td>63</td>\n",
       "    </tr>\n",
       "    <tr>\n",
       "      <th>5</th>\n",
       "      <td>G3</td>\n",
       "      <td>59</td>\n",
       "    </tr>\n",
       "    <tr>\n",
       "      <th>6</th>\n",
       "      <td>G3</td>\n",
       "      <td>42</td>\n",
       "    </tr>\n",
       "    <tr>\n",
       "      <th>7</th>\n",
       "      <td>G3</td>\n",
       "      <td>53</td>\n",
       "    </tr>\n",
       "    <tr>\n",
       "      <th>8</th>\n",
       "      <td>G3</td>\n",
       "      <td>63</td>\n",
       "    </tr>\n",
       "    <tr>\n",
       "      <th>9</th>\n",
       "      <td>G3</td>\n",
       "      <td>65</td>\n",
       "    </tr>\n",
       "    <tr>\n",
       "      <th>10</th>\n",
       "      <td>G3</td>\n",
       "      <td>60</td>\n",
       "    </tr>\n",
       "    <tr>\n",
       "      <th>11</th>\n",
       "      <td>G3</td>\n",
       "      <td>57</td>\n",
       "    </tr>\n",
       "    <tr>\n",
       "      <th>12</th>\n",
       "      <td>G3</td>\n",
       "      <td>62</td>\n",
       "    </tr>\n",
       "    <tr>\n",
       "      <th>13</th>\n",
       "      <td>G3</td>\n",
       "      <td>70</td>\n",
       "    </tr>\n",
       "    <tr>\n",
       "      <th>14</th>\n",
       "      <td>G3</td>\n",
       "      <td>73</td>\n",
       "    </tr>\n",
       "    <tr>\n",
       "      <th>15</th>\n",
       "      <td>G3</td>\n",
       "      <td>63</td>\n",
       "    </tr>\n",
       "    <tr>\n",
       "      <th>16</th>\n",
       "      <td>G3</td>\n",
       "      <td>55</td>\n",
       "    </tr>\n",
       "    <tr>\n",
       "      <th>17</th>\n",
       "      <td>G3</td>\n",
       "      <td>52</td>\n",
       "    </tr>\n",
       "    <tr>\n",
       "      <th>18</th>\n",
       "      <td>G3</td>\n",
       "      <td>58</td>\n",
       "    </tr>\n",
       "    <tr>\n",
       "      <th>19</th>\n",
       "      <td>G3</td>\n",
       "      <td>68</td>\n",
       "    </tr>\n",
       "    <tr>\n",
       "      <th>20</th>\n",
       "      <td>G3</td>\n",
       "      <td>70</td>\n",
       "    </tr>\n",
       "    <tr>\n",
       "      <th>21</th>\n",
       "      <td>G3</td>\n",
       "      <td>72</td>\n",
       "    </tr>\n",
       "    <tr>\n",
       "      <th>22</th>\n",
       "      <td>G3</td>\n",
       "      <td>45</td>\n",
       "    </tr>\n",
       "  </tbody>\n",
       "</table>\n",
       "<p>63 rows × 2 columns</p>\n",
       "</div>"
      ],
      "text/plain": [
       "   Gym  Monthly_Income\n",
       "0   G1              60\n",
       "1   G1              65\n",
       "2   G1              66\n",
       "3   G1              55\n",
       "4   G1              62\n",
       "5   G1              70\n",
       "6   G1              51\n",
       "7   G1              72\n",
       "8   G1              58\n",
       "9   G1              61\n",
       "10  G1              71\n",
       "11  G1              41\n",
       "12  G1              70\n",
       "13  G1              57\n",
       "14  G1              55\n",
       "15  G1              63\n",
       "16  G1              64\n",
       "17  G1              76\n",
       "18  G1              74\n",
       "19  G1              54\n",
       "20  G1              58\n",
       "21  G1              73\n",
       "0   G2              56\n",
       "1   G2              65\n",
       "2   G2              63\n",
       "3   G2              57\n",
       "4   G2              47\n",
       "5   G2              72\n",
       "6   G2              56\n",
       "7   G2              52\n",
       "..  ..             ...\n",
       "11  G2              68\n",
       "12  G2              75\n",
       "13  G2              60\n",
       "14  G2              73\n",
       "15  G2              63\n",
       "16  G2              64\n",
       "17  G2              65\n",
       "0   G3              67\n",
       "1   G3              56\n",
       "2   G3              65\n",
       "3   G3              61\n",
       "4   G3              63\n",
       "5   G3              59\n",
       "6   G3              42\n",
       "7   G3              53\n",
       "8   G3              63\n",
       "9   G3              65\n",
       "10  G3              60\n",
       "11  G3              57\n",
       "12  G3              62\n",
       "13  G3              70\n",
       "14  G3              73\n",
       "15  G3              63\n",
       "16  G3              55\n",
       "17  G3              52\n",
       "18  G3              58\n",
       "19  G3              68\n",
       "20  G3              70\n",
       "21  G3              72\n",
       "22  G3              45\n",
       "\n",
       "[63 rows x 2 columns]"
      ]
     },
     "execution_count": 11,
     "metadata": {},
     "output_type": "execute_result"
    }
   ],
   "source": [
    "gym1 = pd.DataFrame({\"Gym\":\"G1\",\"Monthly_Income\":gym_store1})\n",
    "gym2 = pd.DataFrame({\"Gym\":\"G2\",\"Monthly_Income\":gym_store2})\n",
    "gym3 = pd.DataFrame({\"Gym\":\"G3\",\"Monthly_Income\":gym_store3})\n",
    "gym_income = pd.DataFrame()\n",
    "gym_income = gym_income.append(gym1) \n",
    "gym_income = gym_income.append(gym2)\n",
    "gym_income = gym_income.append(gym3)\n",
    "gym_income"
   ]
  },
  {
   "cell_type": "markdown",
   "metadata": {},
   "source": [
    "Step 1 - H0: Monthly_Income(Gym1)=Monthly_Income(Gym1)=Monthly_Income(Gym3)\n",
    "\n",
    "Step 2 - H1: Monthly_Income(Gym1)!=Monthly_Income(Gym1)!=Monthly_Income(Gym3)"
   ]
  },
  {
   "cell_type": "code",
   "execution_count": 12,
   "metadata": {},
   "outputs": [
    {
     "name": "stdout",
     "output_type": "stream",
     "text": [
      "dfn is: 2\n",
      "dfd is: 60\n"
     ]
    }
   ],
   "source": [
    "dfn = 2\n",
    "print(\"dfn is:\", dfn)\n",
    "dfd = len(gym_store1)+len(gym_store2)+len(gym_store3)-3\n",
    "print(\"dfd is:\",dfd)"
   ]
  },
  {
   "cell_type": "code",
   "execution_count": 13,
   "metadata": {},
   "outputs": [
    {
     "name": "stdout",
     "output_type": "stream",
     "text": [
      "CV is: 3.1504113105827303\n"
     ]
    }
   ],
   "source": [
    "#Step3 - Critical Value\n",
    "cv = scipy.f.isf(0.05,2,60)\n",
    "print(\"CV is:\",cv)"
   ]
  },
  {
   "cell_type": "code",
   "execution_count": 14,
   "metadata": {},
   "outputs": [
    {
     "data": {
      "image/png": "[encoded data removed]",
      "text/plain": [
       "<Figure size 432x288 with 1 Axes>"
      ]
     },
     "metadata": {
      "needs_background": "light"
     },
     "output_type": "display_data"
    }
   ],
   "source": [
    "sns.boxplot(x=\"Gym\",y=\"Monthly_Income\",data=gym_income)\n",
    "plt.show()"
   ]
  },
  {
   "cell_type": "code",
   "execution_count": 15,
   "metadata": {},
   "outputs": [],
   "source": [
    "# Step4 - Anova Test as we have more than 2 samples.\n",
    "# Calculate F Statistics"
   ]
  },
  {
   "cell_type": "code",
   "execution_count": 16,
   "metadata": {},
   "outputs": [],
   "source": [
    "# Fitting Anova model using OLS\n",
    "model = ols(\"Monthly_Income~Gym\",data= gym_income).fit()"
   ]
  },
  {
   "cell_type": "code",
   "execution_count": 17,
   "metadata": {},
   "outputs": [
    {
     "name": "stdout",
     "output_type": "stream",
     "text": [
      "            df       sum_sq    mean_sq         F   PR(>F)\n",
      "Gym        2.0    66.614123  33.307061  0.497075  0.61079\n",
      "Residual  60.0  4020.370004  67.006167       NaN      NaN\n"
     ]
    }
   ],
   "source": [
    "print(sm.stats.anova_lm(model))"
   ]
  },
  {
   "cell_type": "markdown",
   "metadata": {},
   "source": [
    "Step5: Conclusion\n",
    "\n",
    "Since the p-value states that there is a 61.079 % probability that the gym income of all stores is same and the same can \n",
    "be seen by F statistics. Hence we fail to reject the Null Hypothesis (H0)."
   ]
  },
  {
   "cell_type": "markdown",
   "metadata": {},
   "source": [
    "#### POST HOC TEST"
   ]
  },
  {
   "cell_type": "code",
   "execution_count": 18,
   "metadata": {},
   "outputs": [
    {
     "name": "stdout",
     "output_type": "stream",
     "text": [
      "Multiple Comparison of Means - Tukey HSD, FWER=0.05\n",
      "===================================================\n",
      "group1 group2 meandiff p-adj   lower  upper  reject\n",
      "---------------------------------------------------\n",
      "    G1     G2   0.7323    0.9 -5.5198 6.9844  False\n",
      "    G1     G3  -1.7194 0.7423 -7.5858 4.1471  False\n",
      "    G2     G3  -2.4517  0.602 -8.6423 3.7389  False\n",
      "---------------------------------------------------\n"
     ]
    }
   ],
   "source": [
    "print(pairwise_tukeyhsd(gym_income[\"Monthly_Income\"],gym_income[\"Gym\"]))"
   ]
  },
  {
   "cell_type": "markdown",
   "metadata": {},
   "source": [
    "#### Homework\n",
    "\n",
    "The Data comes from an electronic store showing the percentage of customers satisfied with the quality of service.\n",
    "\n",
    "Conduct a two way Anova and draw a inference about the population mean of service corresponding to the days as well as stores."
   ]
  },
  {
   "cell_type": "code",
   "execution_count": 19,
   "metadata": {},
   "outputs": [
    {
     "data": {
      "text/plain": [
       "[['Day', 'Store-A', 'Store-B', 'Store-C', 'Store-D', 'Store-E'],\n",
       " [1, 79, 81, 74, 77, 76],\n",
       " [2, 78, 86, 89, 97, 86],\n",
       " [3, 81, 87, 84, 94, 82],\n",
       " [4, 80, 83, 81, 88, 83],\n",
       " [5, 70, 74, 77, 89, 68]]"
      ]
     },
     "execution_count": 19,
     "metadata": {},
     "output_type": "execute_result"
    }
   ],
   "source": [
    "table1 = [[\"Day\",\"Store-A\",\"Store-B\",\"Store-C\",\"Store-D\",\"Store-E\"],[1,79,81,74,77,76],[2,78,86,89,97,86],[3,81,87,84,94,82],\n",
    "         [4,80,83,81,88,83],[5,70,74,77,89,68]]\n",
    "table1"
   ]
  },
  {
   "cell_type": "code",
   "execution_count": 20,
   "metadata": {},
   "outputs": [
    {
     "data": {
      "text/html": [
       "<div>\n",
       "<style scoped>\n",
       "    .dataframe tbody tr th:only-of-type {\n",
       "        vertical-align: middle;\n",
       "    }\n",
       "\n",
       "    .dataframe tbody tr th {\n",
       "        vertical-align: top;\n",
       "    }\n",
       "\n",
       "    .dataframe thead th {\n",
       "        text-align: right;\n",
       "    }\n",
       "</style>\n",
       "<table border=\"1\" class=\"dataframe\">\n",
       "  <thead>\n",
       "    <tr style=\"text-align: right;\">\n",
       "      <th></th>\n",
       "      <th>Day</th>\n",
       "      <th>Store-A</th>\n",
       "      <th>Store-B</th>\n",
       "      <th>Store-C</th>\n",
       "      <th>Store-D</th>\n",
       "      <th>Store-E</th>\n",
       "    </tr>\n",
       "  </thead>\n",
       "  <tbody>\n",
       "    <tr>\n",
       "      <th>0</th>\n",
       "      <td>1</td>\n",
       "      <td>79</td>\n",
       "      <td>81</td>\n",
       "      <td>74</td>\n",
       "      <td>77</td>\n",
       "      <td>76</td>\n",
       "    </tr>\n",
       "    <tr>\n",
       "      <th>1</th>\n",
       "      <td>2</td>\n",
       "      <td>78</td>\n",
       "      <td>86</td>\n",
       "      <td>89</td>\n",
       "      <td>97</td>\n",
       "      <td>86</td>\n",
       "    </tr>\n",
       "    <tr>\n",
       "      <th>2</th>\n",
       "      <td>3</td>\n",
       "      <td>81</td>\n",
       "      <td>87</td>\n",
       "      <td>84</td>\n",
       "      <td>94</td>\n",
       "      <td>82</td>\n",
       "    </tr>\n",
       "    <tr>\n",
       "      <th>3</th>\n",
       "      <td>4</td>\n",
       "      <td>80</td>\n",
       "      <td>83</td>\n",
       "      <td>81</td>\n",
       "      <td>88</td>\n",
       "      <td>83</td>\n",
       "    </tr>\n",
       "    <tr>\n",
       "      <th>4</th>\n",
       "      <td>5</td>\n",
       "      <td>70</td>\n",
       "      <td>74</td>\n",
       "      <td>77</td>\n",
       "      <td>89</td>\n",
       "      <td>68</td>\n",
       "    </tr>\n",
       "  </tbody>\n",
       "</table>\n",
       "</div>"
      ],
      "text/plain": [
       "   Day  Store-A  Store-B  Store-C  Store-D  Store-E\n",
       "0    1       79       81       74       77       76\n",
       "1    2       78       86       89       97       86\n",
       "2    3       81       87       84       94       82\n",
       "3    4       80       83       81       88       83\n",
       "4    5       70       74       77       89       68"
      ]
     },
     "execution_count": 20,
     "metadata": {},
     "output_type": "execute_result"
    }
   ],
   "source": [
    "table2 = pd.DataFrame(table1[1:],columns=table1[0])\n",
    "table2"
   ]
  },
  {
   "cell_type": "code",
   "execution_count": 21,
   "metadata": {},
   "outputs": [
    {
     "data": {
      "text/html": [
       "<div>\n",
       "<style scoped>\n",
       "    .dataframe tbody tr th:only-of-type {\n",
       "        vertical-align: middle;\n",
       "    }\n",
       "\n",
       "    .dataframe tbody tr th {\n",
       "        vertical-align: top;\n",
       "    }\n",
       "\n",
       "    .dataframe thead th {\n",
       "        text-align: right;\n",
       "    }\n",
       "</style>\n",
       "<table border=\"1\" class=\"dataframe\">\n",
       "  <thead>\n",
       "    <tr style=\"text-align: right;\">\n",
       "      <th></th>\n",
       "      <th>Day</th>\n",
       "      <th>Store_Type</th>\n",
       "      <th>Quality_Score</th>\n",
       "    </tr>\n",
       "  </thead>\n",
       "  <tbody>\n",
       "    <tr>\n",
       "      <th>0</th>\n",
       "      <td>1</td>\n",
       "      <td>Store-A</td>\n",
       "      <td>79</td>\n",
       "    </tr>\n",
       "    <tr>\n",
       "      <th>1</th>\n",
       "      <td>2</td>\n",
       "      <td>Store-A</td>\n",
       "      <td>78</td>\n",
       "    </tr>\n",
       "    <tr>\n",
       "      <th>2</th>\n",
       "      <td>3</td>\n",
       "      <td>Store-A</td>\n",
       "      <td>81</td>\n",
       "    </tr>\n",
       "    <tr>\n",
       "      <th>3</th>\n",
       "      <td>4</td>\n",
       "      <td>Store-A</td>\n",
       "      <td>80</td>\n",
       "    </tr>\n",
       "    <tr>\n",
       "      <th>4</th>\n",
       "      <td>5</td>\n",
       "      <td>Store-A</td>\n",
       "      <td>70</td>\n",
       "    </tr>\n",
       "    <tr>\n",
       "      <th>5</th>\n",
       "      <td>1</td>\n",
       "      <td>Store-B</td>\n",
       "      <td>81</td>\n",
       "    </tr>\n",
       "    <tr>\n",
       "      <th>6</th>\n",
       "      <td>2</td>\n",
       "      <td>Store-B</td>\n",
       "      <td>86</td>\n",
       "    </tr>\n",
       "    <tr>\n",
       "      <th>7</th>\n",
       "      <td>3</td>\n",
       "      <td>Store-B</td>\n",
       "      <td>87</td>\n",
       "    </tr>\n",
       "    <tr>\n",
       "      <th>8</th>\n",
       "      <td>4</td>\n",
       "      <td>Store-B</td>\n",
       "      <td>83</td>\n",
       "    </tr>\n",
       "    <tr>\n",
       "      <th>9</th>\n",
       "      <td>5</td>\n",
       "      <td>Store-B</td>\n",
       "      <td>74</td>\n",
       "    </tr>\n",
       "    <tr>\n",
       "      <th>10</th>\n",
       "      <td>1</td>\n",
       "      <td>Store-C</td>\n",
       "      <td>74</td>\n",
       "    </tr>\n",
       "    <tr>\n",
       "      <th>11</th>\n",
       "      <td>2</td>\n",
       "      <td>Store-C</td>\n",
       "      <td>89</td>\n",
       "    </tr>\n",
       "    <tr>\n",
       "      <th>12</th>\n",
       "      <td>3</td>\n",
       "      <td>Store-C</td>\n",
       "      <td>84</td>\n",
       "    </tr>\n",
       "    <tr>\n",
       "      <th>13</th>\n",
       "      <td>4</td>\n",
       "      <td>Store-C</td>\n",
       "      <td>81</td>\n",
       "    </tr>\n",
       "    <tr>\n",
       "      <th>14</th>\n",
       "      <td>5</td>\n",
       "      <td>Store-C</td>\n",
       "      <td>77</td>\n",
       "    </tr>\n",
       "    <tr>\n",
       "      <th>15</th>\n",
       "      <td>1</td>\n",
       "      <td>Store-D</td>\n",
       "      <td>77</td>\n",
       "    </tr>\n",
       "    <tr>\n",
       "      <th>16</th>\n",
       "      <td>2</td>\n",
       "      <td>Store-D</td>\n",
       "      <td>97</td>\n",
       "    </tr>\n",
       "    <tr>\n",
       "      <th>17</th>\n",
       "      <td>3</td>\n",
       "      <td>Store-D</td>\n",
       "      <td>94</td>\n",
       "    </tr>\n",
       "    <tr>\n",
       "      <th>18</th>\n",
       "      <td>4</td>\n",
       "      <td>Store-D</td>\n",
       "      <td>88</td>\n",
       "    </tr>\n",
       "    <tr>\n",
       "      <th>19</th>\n",
       "      <td>5</td>\n",
       "      <td>Store-D</td>\n",
       "      <td>89</td>\n",
       "    </tr>\n",
       "    <tr>\n",
       "      <th>20</th>\n",
       "      <td>1</td>\n",
       "      <td>Store-E</td>\n",
       "      <td>76</td>\n",
       "    </tr>\n",
       "    <tr>\n",
       "      <th>21</th>\n",
       "      <td>2</td>\n",
       "      <td>Store-E</td>\n",
       "      <td>86</td>\n",
       "    </tr>\n",
       "    <tr>\n",
       "      <th>22</th>\n",
       "      <td>3</td>\n",
       "      <td>Store-E</td>\n",
       "      <td>82</td>\n",
       "    </tr>\n",
       "    <tr>\n",
       "      <th>23</th>\n",
       "      <td>4</td>\n",
       "      <td>Store-E</td>\n",
       "      <td>83</td>\n",
       "    </tr>\n",
       "    <tr>\n",
       "      <th>24</th>\n",
       "      <td>5</td>\n",
       "      <td>Store-E</td>\n",
       "      <td>68</td>\n",
       "    </tr>\n",
       "  </tbody>\n",
       "</table>\n",
       "</div>"
      ],
      "text/plain": [
       "    Day Store_Type  Quality_Score\n",
       "0     1    Store-A             79\n",
       "1     2    Store-A             78\n",
       "2     3    Store-A             81\n",
       "3     4    Store-A             80\n",
       "4     5    Store-A             70\n",
       "5     1    Store-B             81\n",
       "6     2    Store-B             86\n",
       "7     3    Store-B             87\n",
       "8     4    Store-B             83\n",
       "9     5    Store-B             74\n",
       "10    1    Store-C             74\n",
       "11    2    Store-C             89\n",
       "12    3    Store-C             84\n",
       "13    4    Store-C             81\n",
       "14    5    Store-C             77\n",
       "15    1    Store-D             77\n",
       "16    2    Store-D             97\n",
       "17    3    Store-D             94\n",
       "18    4    Store-D             88\n",
       "19    5    Store-D             89\n",
       "20    1    Store-E             76\n",
       "21    2    Store-E             86\n",
       "22    3    Store-E             82\n",
       "23    4    Store-E             83\n",
       "24    5    Store-E             68"
      ]
     },
     "execution_count": 21,
     "metadata": {},
     "output_type": "execute_result"
    }
   ],
   "source": [
    "table_melt = pd.melt(table2,id_vars=[\"Day\"],var_name=\"Store_Type\",value_name=\"Quality_Score\",\n",
    "        value_vars=[\"Store-A\",\"Store-B\",\"Store-C\",\"Store-D\",\"Store-E\"])\n",
    "table_melt"
   ]
  },
  {
   "cell_type": "markdown",
   "metadata": {},
   "source": [
    "#### Two Way Anova F-Test"
   ]
  },
  {
   "cell_type": "markdown",
   "metadata": {},
   "source": [
    "Step1 - H0: The percentage of customers satisfied with the quality of service is equal of every store type.\n",
    "\n",
    "Step2 - H1: The percentage of customers satisfied with the quality of service is not equal of every store type.\n",
    "\n",
    "Step3 - Identify test - Anova(F-Test),Right Tail Test\n",
    "\n",
    "Step4 - Finding Critical Value"
   ]
  },
  {
   "cell_type": "code",
   "execution_count": 22,
   "metadata": {},
   "outputs": [
    {
     "name": "stdout",
     "output_type": "stream",
     "text": [
      "dfn is: 4\n",
      "dfd is: 20\n"
     ]
    }
   ],
   "source": [
    "n = 5\n",
    "dfn = n-1\n",
    "print(\"dfn is:\",dfn)\n",
    "dfd = len(table_melt)-5\n",
    "print(\"dfd is:\",dfd)"
   ]
  },
  {
   "cell_type": "code",
   "execution_count": 23,
   "metadata": {},
   "outputs": [
    {
     "name": "stdout",
     "output_type": "stream",
     "text": [
      "F Critical Value is: 2.8660814020156584\n"
     ]
    }
   ],
   "source": [
    "# Step4 - \n",
    "f_cv = scipy.f.isf(0.05,dfn,dfd)\n",
    "print(\"F Critical Value is:\",f_cv)"
   ]
  },
  {
   "cell_type": "markdown",
   "metadata": {},
   "source": [
    "##### F-Test"
   ]
  },
  {
   "cell_type": "code",
   "execution_count": 24,
   "metadata": {},
   "outputs": [],
   "source": [
    "# fstats"
   ]
  },
  {
   "cell_type": "code",
   "execution_count": 25,
   "metadata": {},
   "outputs": [],
   "source": [
    "model7 = ols(\"Quality_Score~Store_Type\",data= table_melt).fit()"
   ]
  },
  {
   "cell_type": "code",
   "execution_count": 26,
   "metadata": {},
   "outputs": [
    {
     "name": "stdout",
     "output_type": "stream",
     "text": [
      "              df  sum_sq  mean_sq         F    PR(>F)\n",
      "Store_Type   4.0  390.56    97.64  2.569474  0.069495\n",
      "Residual    20.0  760.00    38.00       NaN       NaN\n"
     ]
    }
   ],
   "source": [
    "print(sm.stats.anova_lm(model7))"
   ]
  },
  {
   "cell_type": "code",
   "execution_count": null,
   "metadata": {},
   "outputs": [],
   "source": [
    "# We can see that the Fstats is "
   ]
  },
  {
   "cell_type": "markdown",
   "metadata": {},
   "source": [
    "#### POST HOC TEST"
   ]
  },
  {
   "cell_type": "code",
   "execution_count": 27,
   "metadata": {},
   "outputs": [
    {
     "name": "stdout",
     "output_type": "stream",
     "text": [
      "  Multiple Comparison of Means - Tukey HSD, FWER=0.05  \n",
      "=======================================================\n",
      " group1  group2 meandiff p-adj   lower    upper  reject\n",
      "-------------------------------------------------------\n",
      "Store-A Store-B      4.6 0.7393  -7.0673 16.2673  False\n",
      "Store-A Store-C      3.4    0.9  -8.2673 15.0673  False\n",
      "Store-A Store-D     11.4 0.0575  -0.2673 23.0673  False\n",
      "Store-A Store-E      1.4    0.9 -10.2673 13.0673  False\n",
      "Store-B Store-C     -1.2    0.9 -12.8673 10.4673  False\n",
      "Store-B Store-D      6.8 0.4329  -4.8673 18.4673  False\n",
      "Store-B Store-E     -3.2    0.9 -14.8673  8.4673  False\n",
      "Store-C Store-D      8.0 0.2788  -3.6673 19.6673  False\n",
      "Store-C Store-E     -2.0    0.9 -13.6673  9.6673  False\n",
      "Store-D Store-E    -10.0 0.1158 -21.6673  1.6673  False\n",
      "-------------------------------------------------------\n"
     ]
    }
   ],
   "source": [
    "print(pairwise_tukeyhsd(table_melt[\"Quality_Score\"],table_melt[\"Store_Type\"]))"
   ]
  },
  {
   "cell_type": "code",
   "execution_count": 28,
   "metadata": {},
   "outputs": [
    {
     "name": "stdout",
     "output_type": "stream",
     "text": [
      " Multiple Comparison of Means - Tukey HSD, FWER=0.05 \n",
      "=====================================================\n",
      "group1 group2 meandiff p-adj   lower    upper  reject\n",
      "-----------------------------------------------------\n",
      "     1      2      9.8 0.0818  -0.8765 20.4765  False\n",
      "     1      3      8.2 0.1864  -2.4765 18.8765  False\n",
      "     1      4      5.6 0.5291  -5.0765 16.2765  False\n",
      "     1      5     -1.8    0.9 -12.4765  8.8765  False\n",
      "     2      3     -1.6    0.9 -12.2765  9.0765  False\n",
      "     2      4     -4.2 0.7407 -14.8765  6.4765  False\n",
      "     2      5    -11.6 0.0291 -22.2765 -0.9235   True\n",
      "     3      4     -2.6    0.9 -13.2765  8.0765  False\n",
      "     3      5    -10.0 0.0733 -20.6765  0.6765  False\n",
      "     4      5     -7.4 0.2693 -18.0765  3.2765  False\n",
      "-----------------------------------------------------\n"
     ]
    }
   ],
   "source": [
    "print(pairwise_tukeyhsd(table_melt[\"Quality_Score\"],table_melt[\"Day\"]))"
   ]
  },
  {
   "cell_type": "markdown",
   "metadata": {},
   "source": []
  }
 ],
 "metadata": {
  "kernelspec": {
   "display_name": "Python 3",
   "language": "python",
   "name": "python3"
  },
  "language_info": {
   "codemirror_mode": {
    "name": "ipython",
    "version": 3
   },
   "file_extension": ".py",
   "mimetype": "text/x-python",
   "name": "python",
   "nbconvert_exporter": "python",
   "pygments_lexer": "ipython3",
   "version": "3.7.3"
  }
 },
 "nbformat": 4,
 "nbformat_minor": 2
}
